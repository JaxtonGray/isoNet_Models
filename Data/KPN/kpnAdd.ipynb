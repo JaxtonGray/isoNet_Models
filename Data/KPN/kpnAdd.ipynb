{
 "cells": [
  {
   "cell_type": "code",
   "execution_count": 12,
   "metadata": {},
   "outputs": [],
   "source": [
    "################################################################################\n",
    "# This script will be used to add the koppen-geiger climate classification to\n",
    "# the dataset. The script will do the following:\n",
    "# 1. Load the dataset\n",
    "# 2. Cycle through each row in the dataset and get the latitude, longitude, and date\n",
    "# 3. Use the latitude and longitude to get the climate classification from the corresponding time period\n",
    "# 4. Add the climate classification to the dataset\n",
    "# 5. Read in the legend and convert the climate classification from a number to a string (A, B, C, D, E)\n",
    "# 6. One-hot encode the climate classification\n",
    "# 7. Save the dataset\n",
    "################################################################################"
   ]
  },
  {
   "cell_type": "code",
   "execution_count": 13,
   "metadata": {},
   "outputs": [],
   "source": [
    "# Import libraries\n",
    "from glob import glob\n",
    "import os\n",
    "import pandas as pd\n",
    "import geopandas as gpd\n",
    "import rasterio as rio"
   ]
  },
  {
   "cell_type": "code",
   "execution_count": 14,
   "metadata": {},
   "outputs": [],
   "source": [
    "# Load the dataset\n",
    "def loadDataset(path):\n",
    "    data = pd.read_csv(path)\n",
    "    df = gpd.GeoDataFrame(data, geometry=gpd.points_from_xy(data.lon, data.lat))\n",
    "    return df"
   ]
  },
  {
   "cell_type": "code",
   "execution_count": 30,
   "metadata": {},
   "outputs": [],
   "source": [
    "# Read in the climate classification raster directories and assign them to the corresponding time period in\n",
    "# a dictionary. Storing the specific raster to a key represeting the time period max min. The following will be a list:\n",
    "# 1. The raster object\n",
    "# 2. The first and only band of the raster as a numpy array\n",
    "def readRasters():\n",
    "    # Create a dictionary to hold the rasters\n",
    "    files = glob('*') # Get all the files in the current directory\n",
    "    files.remove('2041_2070') # Remove the directories that are future projections\n",
    "    files.remove('2071_2099') # Remove the directories that are future projections\n",
    "    rasters = {}\n",
    "    for file in files:\n",
    "        if os.path.isdir(file):\n",
    "            with rio.open(file + r'\\koppen_geiger_0p1.tif') as src:\n",
    "                rasters[(int(file.split('_')[0]), int(file.split('_')[1]))] = [src, src.read(1)] \n",
    "        else:\n",
    "            continue\n",
    "    return rasters\n",
    "    "
   ]
  },
  {
   "cell_type": "code",
   "execution_count": 35,
   "metadata": {},
   "outputs": [
    {
     "data": {
      "text/plain": [
       "'EPSG:4326'"
      ]
     },
     "execution_count": 35,
     "metadata": {},
     "output_type": "execute_result"
    }
   ],
   "source": [
    "readRasters()[(1901, 1930)][0].crs.to_string()"
   ]
  }
 ],
 "metadata": {
  "kernelspec": {
   "display_name": "Python 3",
   "language": "python",
   "name": "python3"
  },
  "language_info": {
   "codemirror_mode": {
    "name": "ipython",
    "version": 3
   },
   "file_extension": ".py",
   "mimetype": "text/x-python",
   "name": "python",
   "nbconvert_exporter": "python",
   "pygments_lexer": "ipython3",
   "version": "3.10.4"
  }
 },
 "nbformat": 4,
 "nbformat_minor": 2
}
