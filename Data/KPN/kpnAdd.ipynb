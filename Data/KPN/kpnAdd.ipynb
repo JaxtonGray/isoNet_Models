{
 "cells": [
  {
   "cell_type": "code",
   "execution_count": 77,
   "metadata": {},
   "outputs": [],
   "source": [
    "################################################################################\n",
    "# This script will be used to add the koppen-geiger climate classification to\n",
    "# the dataset. The script will do the following:\n",
    "# 1. Load the dataset\n",
    "# 2. Cycle through each row in the dataset and get the latitude, longitude, and date\n",
    "# 3. Use the latitude and longitude to get the climate classification from the corresponding time period\n",
    "# 4. Add the climate classification to the dataset\n",
    "# 5. Read in the legend and convert the climate classification from a number to a string (A, B, C, D, E)\n",
    "# 6. One-hot encode the climate classification\n",
    "# 7. Save the dataset\n",
    "################################################################################"
   ]
  },
  {
   "cell_type": "code",
   "execution_count": 78,
   "metadata": {},
   "outputs": [],
   "source": [
    "# Import libraries\n",
    "from glob import glob\n",
    "import os\n",
    "import pandas as pd\n",
    "import geopandas as gpd\n",
    "import rasterio as rio"
   ]
  },
  {
   "cell_type": "code",
   "execution_count": 79,
   "metadata": {},
   "outputs": [],
   "source": [
    "# Load the dataset\n",
    "def loadDataset(path):\n",
    "    data = pd.read_csv(path)\n",
    "    data['Date'] = pd.to_datetime(data['Date'])\n",
    "    df = gpd.GeoDataFrame(data, geometry=gpd.points_from_xy(data.Lon, data.Lat))\n",
    "    return df"
   ]
  },
  {
   "cell_type": "code",
   "execution_count": 80,
   "metadata": {},
   "outputs": [],
   "source": [
    "# Read in the climate classification raster directories and assign them to the corresponding time period in\n",
    "# a dictionary. Storing the specific raster to a key represeting the time period max min. The following will be a list:\n",
    "# 1. The raster object\n",
    "# 2. The first and only band of the raster as a numpy array\n",
    "def readRasters():\n",
    "    # Create a dictionary to hold the rasters\n",
    "    files = glob('*') # Get all the files in the current directory\n",
    "    files.remove('2041_2070') # Remove the directories that are future projections\n",
    "    files.remove('2071_2099') # Remove the directories that are future projections\n",
    "    rasters = {}\n",
    "    for file in files:\n",
    "        if os.path.isdir(file):\n",
    "            with rio.open(file + r'\\koppen_geiger_0p1.tif') as src:\n",
    "                rasters[(int(file.split('_')[0]), int(file.split('_')[1]))] = [src, src.read(1)] \n",
    "        else:\n",
    "            continue\n",
    "    return rasters\n",
    "    "
   ]
  },
  {
   "cell_type": "code",
   "execution_count": 81,
   "metadata": {},
   "outputs": [],
   "source": [
    "# Get the climate classification for the dataframe by iterating through it and using the correct\n",
    "# raster for the time period and latitude and longitude of the row\n",
    "def getKPN(df, rasters):\n",
    "    ogCRS = df.crs\n",
    "    df.set_crs(rasters[(1961, 1990)][0].crs, inplace=True)\n",
    "\n",
    "    for i, point in df.iterrows():\n",
    "        # Find the correct raster for the time period\n",
    "        for time in rasters.keys():\n",
    "            if point['Date'].year >= time[0] and point['Date'].year <= time[1]:\n",
    "                date = time\n",
    "            elif point['Date'].year > 2020:\n",
    "                date = (1991, 2020)\n",
    "            elif point['Date'].year < 1901:\n",
    "                date = (1901, 1930)\n",
    "\n",
    "        # Get the climate classification\n",
    "        row, col = rasters[date][0].index(point.geometry.x, point.geometry.y)\n",
    "        df.at[i, 'KPN'] = rasters[date][1][row, col]\n",
    "\n",
    "    # Remove values that are equal to 0, ocean values or values that are not in the raster\n",
    "    df = df[df['KPN'] != 0]\n",
    "\n",
    "    return df"
   ]
  },
  {
   "cell_type": "code",
   "execution_count": 85,
   "metadata": {},
   "outputs": [],
   "source": [
    "# Now to load the legend and convert the KPN from a number to a string (A, B, C, D, E)\n",
    "# Return a dictionary with the key as the string and the value as the numbers as a list\n",
    "def loadLegend():\n",
    "    with open('legend.txt') as f:\n",
    "        legend = f.readlines()\n",
    "        legend = [line.strip().split(':') for line in legend][3:33] # Remove header and footer\n",
    "        legend = [(line[0].strip(), line[1].strip()[0]) for line in legend]\n",
    "        legendDict = {}\n",
    "\n",
    "        for line in legend:\n",
    "            if line[1] in legendDict.keys():\n",
    "                legendDict[line[1]].append(int(line[0]))\n",
    "            else:\n",
    "                legendDict[line[1]] = [int(line[0])]\n",
    "                \n",
    "    return legendDict"
   ]
  },
  {
   "cell_type": "code",
   "execution_count": 87,
   "metadata": {},
   "outputs": [],
   "source": [
    "# Cycle through the dataframe and convert the KPN to the string representation\n",
    "def convertKPN(df, legend):\n",
    "    df['temp'] = df['KPN'].astype(str)\n",
    "    for key, values in legend.items():\n",
    "        df.loc[df['KPN'].isin(values), 'temp'] = key\n",
    "    df.drop(columns=['KPN'], inplace=True)\n",
    "    df.rename(columns={'temp': 'KPN'}, inplace=True)\n",
    "    return df"
   ]
  },
  {
   "cell_type": "code",
   "execution_count": 88,
   "metadata": {},
   "outputs": [],
   "source": [
    "df = loadDataset(r'..\\GNIP\\GNIP_Train.csv')\n",
    "rasters = readRasters()\n",
    "newdf = getKPN(df, rasters)\n",
    "legend = loadLegend()\n",
    "newdf = convertKPN(newdf, legend)"
   ]
  },
  {
   "cell_type": "code",
   "execution_count": 90,
   "metadata": {},
   "outputs": [],
   "source": [
    "newdf.to_csv(r'test.csv', index=False)"
   ]
  }
 ],
 "metadata": {
  "kernelspec": {
   "display_name": "Python 3",
   "language": "python",
   "name": "python3"
  },
  "language_info": {
   "codemirror_mode": {
    "name": "ipython",
    "version": 3
   },
   "file_extension": ".py",
   "mimetype": "text/x-python",
   "name": "python",
   "nbconvert_exporter": "python",
   "pygments_lexer": "ipython3",
   "version": "3.12.6"
  }
 },
 "nbformat": 4,
 "nbformat_minor": 2
}
