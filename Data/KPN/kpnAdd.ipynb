{
 "cells": [
  {
   "cell_type": "code",
   "execution_count": null,
   "metadata": {},
   "outputs": [],
   "source": [
    "################################################################################\n",
    "# This script will be used to add the koppen-geiger climate classification to\n",
    "# the dataset. The script will do the following:\n",
    "# 1. Load the dataset\n",
    "# 2. Cycle through each row in the dataset and get the latitude, longitude, and date\n",
    "# 3. Use the latitude and longitude to get the climate classification from the corresponding time period\n",
    "# 4. Add the climate classification to the dataset\n",
    "# 5. Read in the legend and convert the climate classification from a number to a string (A, B, C, D, E)\n",
    "# 6. One-hot encode the climate classification\n",
    "# 7. Save the dataset\n",
    "################################################################################"
   ]
  },
  {
   "cell_type": "code",
   "execution_count": null,
   "metadata": {},
   "outputs": [],
   "source": [
    "# Import libraries\n",
    "from glob import glob\n",
    "import pandas as pd\n",
    "import geopandas as gpd\n",
    "import rasterio as rio"
   ]
  },
  {
   "cell_type": "code",
   "execution_count": null,
   "metadata": {},
   "outputs": [],
   "source": [
    "# Load the dataset\n",
    "def loadDataset(path):\n",
    "    data = pd.read_csv(path)\n",
    "    df = gpd.GeoDataFrame(data, geometry=gpd.points_from_xy(data.lon, data.lat))\n",
    "    return df"
   ]
  },
  {
   "cell_type": "code",
   "execution_count": null,
   "metadata": {},
   "outputs": [],
   "source": [
    "# Read in the climate classification rasters and assign them to the corresponding time period in\n",
    "# a dictionary\n",
    "def readRasters():\n",
    "    # Create a dictionary to hold the rasters\n",
    "    files = glob('koppen-geiger')\n",
    "    rasters = {}\n"
   ]
  }
 ],
 "metadata": {
  "language_info": {
   "name": "python"
  }
 },
 "nbformat": 4,
 "nbformat_minor": 2
}
