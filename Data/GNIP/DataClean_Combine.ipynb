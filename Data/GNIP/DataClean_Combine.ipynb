{
 "cells": [
  {
   "cell_type": "code",
   "execution_count": 126,
   "metadata": {},
   "outputs": [],
   "source": [
    "## This file will be a combination of functions that both clean that GNIP data and combine it with other data sources\n",
    "## depending on the features we want to include in the model"
   ]
  },
  {
   "cell_type": "code",
   "execution_count": 127,
   "metadata": {},
   "outputs": [],
   "source": [
    "# Importing the necessary libraries\n",
    "import numpy as np\n",
    "import pandas as pd\n",
    "import xarray as xr\n",
    "import glob"
   ]
  },
  {
   "cell_type": "code",
   "execution_count": 128,
   "metadata": {},
   "outputs": [],
   "source": [
    "# Function to clean the GNIP data\n",
    "def cleanData():\n",
    "    # Load in the uncleaned GNIP data\n",
    "    dataUnclean = pd.read_csv('GNIP_Uncleaned.csv')\n",
    "\n",
    "    # Changing the measurement symbol/unit and amount into separate columns\n",
    "    data = dataUnclean.copy()\n",
    "    data['Precip (mm)'] = data['Amount'].where(data['Symbol'] == 'Precipitation', np.nan)\n",
    "    data['Temp (\\u00B0C)'] = data['Amount'].where(data['Symbol'] == 'TempAir', np.nan)\n",
    "    data['O18 (\\u2030)'] = data['Amount'].where(data['Symbol'] == 'O18', np.nan)\n",
    "    data['H2 (\\u2030)'] = data['Amount'].where(data['Symbol'] == 'H2', np.nan)\n",
    "    data = data.drop(['Amount', 'Symbol', 'Units', 'SampleType'], axis=1)\n",
    "\n",
    "    # Changing the date to a datetime object\n",
    "    data['Date'] = pd.to_datetime(data['Date'], utc=True)\n",
    "\n",
    "    # Combine the rows with the same date, lat, and lon into one row\n",
    "    dataAgg = data.groupby(['Lat', 'Lon', 'Date', 'Alt']).agg({\n",
    "        'Precip (mm)': 'first',  # Replace 'first' with your preferred aggregation for non-NaN values\n",
    "        'Temp (\\u00B0C)': 'first',\n",
    "        'O18 (\\u2030)': 'first',\n",
    "        'H2 (\\u2030)': 'first'\n",
    "    }).reset_index()\n",
    "\n",
    "    # Remove rows with NaN values in the O18 and H2 columns as they are the target variables\n",
    "    dataDrop = dataAgg.dropna(subset=['O18 (\\u2030)', 'H2 (\\u2030)'])\n",
    "\n",
    "    return dataDrop"
   ]
  },
  {
   "cell_type": "code",
   "execution_count": 129,
   "metadata": {},
   "outputs": [],
   "source": [
    "# In order to combine the GNIP data with the HydroGFD data, we need to load in the HydroGFD data, to make matters easier later on I have created a function that will load\n",
    "# the HydroGFD data and return a dictionary with the years as keys and the file names as values\n",
    "def loadHydroGFD():\n",
    "    allHydroGFD = glob.glob(\"../HydroGFD/datasets/*.nc\")\n",
    "    dictHydroGFD = {}\n",
    "    for file in allHydroGFD:\n",
    "        dates = file.split('_')\n",
    "        dates = dates[-1].split('-')\n",
    "        \n",
    "        dateTuple = (int(dates[0][:4]), int(dates[1][:4]))\n",
    "\n",
    "        if dateTuple in dictHydroGFD:\n",
    "            dictHydroGFD[dateTuple].append(file)\n",
    "        else:\n",
    "            dictHydroGFD[dateTuple] = [file]\n",
    "        \n",
    "    return dictHydroGFD"
   ]
  },
  {
   "cell_type": "code",
   "execution_count": 130,
   "metadata": {},
   "outputs": [],
   "source": [
    "# This function will locate missing precipitation data using lat, lon, and date and return the precipitation value\n",
    "def precipFinding(date, lat, lon, dictHydroGFD):\n",
    "    # Find the year of the date\n",
    "    year = date.year\n",
    "    date = date.tz_localize(None)\n",
    "    \n",
    "    # Find the HydroGFD file that contains the date\n",
    "    for key in dictHydroGFD:\n",
    "        if year >= key[0] and year <= key[1]:\n",
    "            file = dictHydroGFD[key][0]\n",
    "            break\n",
    "\n",
    "    # Load in the HydroGFD data\n",
    "    xrid = xr.open_dataset(file)\n",
    "\n",
    "    # Find the precipitation value\n",
    "    precipValue = xrid['prAdjust'].sel(lat=lat, lon=lon, time=date, method='nearest').item()\n",
    "    precipValue *= 86400  # Convert from kg/m^2/s to mm/day\n",
    "\n",
    "    return precipValue"
   ]
  },
  {
   "cell_type": "code",
   "execution_count": 131,
   "metadata": {},
   "outputs": [],
   "source": [
    "# This function will locate missing temperature data using lat, lon, and date and return the temperature value\n",
    "def tempFinding(date, lat, lon, dictHydroGFD):\n",
    "    # Find the year of the date\n",
    "    year = date.year\n",
    "    date = date.tz_localize(None)\n",
    "    \n",
    "    # Find the HydroGFD file that contains the date\n",
    "    for key in dictHydroGFD:\n",
    "        if year >= key[0] and year <= key[1]:\n",
    "            file = dictHydroGFD[key][0]\n",
    "            break\n",
    "\n",
    "    # Load in the HydroGFD data\n",
    "    xrid = xr.open_dataset(file)\n",
    "\n",
    "    # Find the temperature value\n",
    "    tempValue = xrid['tasAdjust'].sel(lat=lat, lon=lon, time=date, method='nearest').item()\n",
    "\n",
    "    return tempValue"
   ]
  },
  {
   "cell_type": "code",
   "execution_count": 132,
   "metadata": {},
   "outputs": [],
   "source": [
    "# Fill in the missing precipitation and temperature data in the GNIP data\n",
    "def missingData(data, dictHydroGFD):\n",
    "    # Find the missing precipitation and temperature data\n",
    "    data[data['Precip (mm)'].isnull()] = data.apply(lambda x: precipFinding(x['Date'], x['Lat'], x['Lon'], dictHydroGFD) if pd.isnull(x['Precip (mm)']) else x['Precip (mm)'], axis=1)\n",
    "    data[data['Temp (\\u00B0C)'].isnull()] = data.apply(lambda x: tempFinding(x['Date'], x['Lat'], x['Lon'], dictHydroGFD) if pd.isnull(x['Temp (\\u00B0C)']) else x['Temp (\\u00B0C)'], axis=1)\n",
    "\n",
    "    # Drop the rows with missing precipitation and temperature data\n",
    "    data = data.dropna(subset=['Precip (mm)', 'Temp (\\u00B0C)'])\n",
    "\n",
    "    return data"
   ]
  },
  {
   "cell_type": "code",
   "execution_count": 133,
   "metadata": {},
   "outputs": [],
   "source": [
    "def main():\n",
    "    df = cleanData()\n",
    "    dictHydroGFD = loadHydroGFD()\n",
    "    data = missingData(df, dictHydroGFD)\n",
    "    data = data.to_csv('GNIP_CleanedTEST.csv', index=False)\n",
    "    return data\n",
    "\n",
    "main()"
   ]
  }
 ],
 "metadata": {
  "kernelspec": {
   "display_name": "Python 3",
   "language": "python",
   "name": "python3"
  },
  "language_info": {
   "codemirror_mode": {
    "name": "ipython",
    "version": 3
   },
   "file_extension": ".py",
   "mimetype": "text/x-python",
   "name": "python",
   "nbconvert_exporter": "python",
   "pygments_lexer": "ipython3",
   "version": "3.12.0"
  }
 },
 "nbformat": 4,
 "nbformat_minor": 2
}
