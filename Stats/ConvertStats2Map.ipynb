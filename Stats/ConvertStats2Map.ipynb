{
 "cells": [
  {
   "cell_type": "code",
   "execution_count": 67,
   "metadata": {},
   "outputs": [],
   "source": [
    "### This script will open a Summary Stat file and the stats, then export the stats to a geojson file.\n",
    "### It must be noted that to save space on github the stats files are not included in the repo.\n",
    "### To get them just run the StatsCalc.py script in this same folder. This script will create the stats files.\n",
    "\n",
    "# Import libraries\n",
    "import re\n",
    "import json\n",
    "from glob import glob\n",
    "import pandas as pd\n",
    "import geopandas as gpd"
   ]
  },
  {
   "cell_type": "code",
   "execution_count": 71,
   "metadata": {},
   "outputs": [],
   "source": [
    "# This function will load in a specified summary stat file (.xlsx), it will do this by loading in each model architecture\n",
    "# and using that as its basis for the sheet names to load in the data.\n",
    "# returns a dictionary with the keys being the model architecture and the values being the dataframes\n",
    "\n",
    "def loadStats(modelNum):\n",
    "    # Read in the names of the types of Model Architectures\n",
    "    archs = glob('..//Data//ModelSplit_Arch//*')\n",
    "    archs = [re.split(r'\\\\|//', x)[-1] for x in archs]\n",
    "    archs = [x.split('.')[0] for x in archs]\n",
    "    # Since Global is not a model architecture file we will add it to the list\n",
    "    archs.append('Global')\n",
    "\n",
    "    # Load in the modelDirectory which will be used to load information\n",
    "    # about the model\n",
    "    with open('..//Models//modelDirectory.json', 'r') as file:\n",
    "        modelDirectory = json.load(file)\n",
    "        mainArch = modelDirectory[f'model_{modelNum}']['arch']\n",
    "\n",
    "    # Load in the data\n",
    "    stats = {}\n",
    "    for arch in archs:\n",
    "        # To load in the data I will need to check if the arch is the main one\n",
    "        # If it is I will need to attach (main) to the end of the sheet name\n",
    "        if arch == mainArch:\n",
    "            stats[arch] = pd.read_excel(f'..//Stats//SummaryStats//Model_{modelNum}_Stats.xlsx', sheet_name=f'{arch} (main)')\n",
    "        else:\n",
    "            stats[arch] = pd.read_excel(f'..//Stats//SummaryStats//Model_{modelNum}_Stats.xlsx', sheet_name=arch)\n",
    "\n",
    "    return stats"
   ]
  },
  {
   "cell_type": "code",
   "execution_count": 70,
   "metadata": {},
   "outputs": [
    {
     "data": {
      "text/html": [
       "<div>\n",
       "<style scoped>\n",
       "    .dataframe tbody tr th:only-of-type {\n",
       "        vertical-align: middle;\n",
       "    }\n",
       "\n",
       "    .dataframe tbody tr th {\n",
       "        vertical-align: top;\n",
       "    }\n",
       "\n",
       "    .dataframe thead th {\n",
       "        text-align: right;\n",
       "    }\n",
       "</style>\n",
       "<table border=\"1\" class=\"dataframe\">\n",
       "  <thead>\n",
       "    <tr style=\"text-align: right;\">\n",
       "      <th></th>\n",
       "      <th>O18 KGE</th>\n",
       "      <th>O18 RMSE</th>\n",
       "      <th>O18 Mean Residual</th>\n",
       "      <th>H2 KGE</th>\n",
       "      <th>H2 RMSE</th>\n",
       "      <th>H2 Mean Residual</th>\n",
       "    </tr>\n",
       "  </thead>\n",
       "  <tbody>\n",
       "    <tr>\n",
       "      <th>0</th>\n",
       "      <td>0.839538</td>\n",
       "      <td>2.509075</td>\n",
       "      <td>0.108284</td>\n",
       "      <td>0.861782</td>\n",
       "      <td>19.2546</td>\n",
       "      <td>0.313008</td>\n",
       "    </tr>\n",
       "  </tbody>\n",
       "</table>\n",
       "</div>"
      ],
      "text/plain": [
       "    O18 KGE  O18 RMSE  O18 Mean Residual    H2 KGE  H2 RMSE  H2 Mean Residual\n",
       "0  0.839538  2.509075           0.108284  0.861782  19.2546          0.313008"
      ]
     },
     "execution_count": 70,
     "metadata": {},
     "output_type": "execute_result"
    }
   ],
   "source": [
    "test = loadStats(1)\n",
    "test"
   ]
  }
 ],
 "metadata": {
  "kernelspec": {
   "display_name": "Python 3",
   "language": "python",
   "name": "python3"
  },
  "language_info": {
   "codemirror_mode": {
    "name": "ipython",
    "version": 3
   },
   "file_extension": ".py",
   "mimetype": "text/x-python",
   "name": "python",
   "nbconvert_exporter": "python",
   "pygments_lexer": "ipython3",
   "version": "3.12.6"
  }
 },
 "nbformat": 4,
 "nbformat_minor": 2
}
