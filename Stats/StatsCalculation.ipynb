{
 "cells": [
  {
   "cell_type": "code",
   "execution_count": 14,
   "metadata": {},
   "outputs": [],
   "source": [
    "####################################################################################################\n",
    "#  This will read in a model number and output the stats for that specific model.\n",
    "# It will calculate the KGE (Kling-Gupta Efficiency), RMSE, and Residuals for the model.\n",
    "# However, given that some of these models have different regional models that make up the main model,\n",
    "# it will need to be separated into different regions. But only for the models that do have regional models.\n",
    "# The stats will be outputted to a csv file. To be used in the future for analysis.\n",
    "####################################################################################################\n",
    "\n",
    "import sys\n",
    "import numpy as np\n",
    "import pandas as pd\n",
    "import geopandas as gpd"
   ]
  },
  {
   "cell_type": "code",
   "execution_count": 15,
   "metadata": {},
   "outputs": [
    {
     "data": {
      "text/html": [
       "<div>\n",
       "<style scoped>\n",
       "    .dataframe tbody tr th:only-of-type {\n",
       "        vertical-align: middle;\n",
       "    }\n",
       "\n",
       "    .dataframe tbody tr th {\n",
       "        vertical-align: top;\n",
       "    }\n",
       "\n",
       "    .dataframe thead th {\n",
       "        text-align: right;\n",
       "    }\n",
       "</style>\n",
       "<table border=\"1\" class=\"dataframe\">\n",
       "  <thead>\n",
       "    <tr style=\"text-align: right;\">\n",
       "      <th></th>\n",
       "      <th>obs</th>\n",
       "      <th>sim</th>\n",
       "    </tr>\n",
       "  </thead>\n",
       "  <tbody>\n",
       "    <tr>\n",
       "      <th>0</th>\n",
       "      <td>1</td>\n",
       "      <td>1.1</td>\n",
       "    </tr>\n",
       "    <tr>\n",
       "      <th>1</th>\n",
       "      <td>2</td>\n",
       "      <td>2.2</td>\n",
       "    </tr>\n",
       "    <tr>\n",
       "      <th>2</th>\n",
       "      <td>3</td>\n",
       "      <td>3.3</td>\n",
       "    </tr>\n",
       "    <tr>\n",
       "      <th>3</th>\n",
       "      <td>4</td>\n",
       "      <td>4.4</td>\n",
       "    </tr>\n",
       "    <tr>\n",
       "      <th>4</th>\n",
       "      <td>5</td>\n",
       "      <td>5.5</td>\n",
       "    </tr>\n",
       "    <tr>\n",
       "      <th>5</th>\n",
       "      <td>6</td>\n",
       "      <td>6.6</td>\n",
       "    </tr>\n",
       "    <tr>\n",
       "      <th>6</th>\n",
       "      <td>7</td>\n",
       "      <td>7.7</td>\n",
       "    </tr>\n",
       "    <tr>\n",
       "      <th>7</th>\n",
       "      <td>8</td>\n",
       "      <td>8.8</td>\n",
       "    </tr>\n",
       "    <tr>\n",
       "      <th>8</th>\n",
       "      <td>9</td>\n",
       "      <td>9.9</td>\n",
       "    </tr>\n",
       "    <tr>\n",
       "      <th>9</th>\n",
       "      <td>10</td>\n",
       "      <td>10.1</td>\n",
       "    </tr>\n",
       "  </tbody>\n",
       "</table>\n",
       "</div>"
      ],
      "text/plain": [
       "   obs   sim\n",
       "0    1   1.1\n",
       "1    2   2.2\n",
       "2    3   3.3\n",
       "3    4   4.4\n",
       "4    5   5.5\n",
       "5    6   6.6\n",
       "6    7   7.7\n",
       "7    8   8.8\n",
       "8    9   9.9\n",
       "9   10  10.1"
      ]
     },
     "execution_count": 15,
     "metadata": {},
     "output_type": "execute_result"
    }
   ],
   "source": [
    "test = pd.DataFrame(data=\n",
    "                    {'obs': [1, 2, 3, 4, 5, 6, 7, 8, 9, 10],\n",
    "                     'sim': [1.1, 2.2, 3.3, 4.4, 5.5, 6.6, 7.7, 8.8, 9.9, 10.1]})\n",
    "test"
   ]
  },
  {
   "cell_type": "code",
   "execution_count": 16,
   "metadata": {},
   "outputs": [],
   "source": [
    "# Caclulate the RMSE for a predicted and observed dataset\n",
    "# Assume that the observed and predicted datasets are pandas dataframes with the same length\n",
    "def rmse(observed, predicted):\n",
    "    return np.sqrt(np.mean((observed - predicted) ** 2))"
   ]
  },
  {
   "cell_type": "code",
   "execution_count": 17,
   "metadata": {},
   "outputs": [],
   "source": [
    "# Calculate the KGE for a predicted and observed dataset\n",
    "# Assume that the observed and predicted datasets are pandas dataframes with the same length\n",
    "def kge(observed, predicted):\n",
    "    # Calculate mean and standard deviation of observed and predicted datasets\n",
    "    obs_mean = observed.mean()\n",
    "    sim_mean = predicted.mean()\n",
    "    obs_std = observed.std()\n",
    "    sim_std = predicted.std()\n",
    "\n",
    "    # Calculate the correlation coefficient between the observed and predicted datasets\n",
    "    r = np.corrcoef(observed, predicted)[0, 1] # [0, 1] is the correlation between the two datasets in the matrix\n",
    "\n",
    "    # Calculate the bias and variability between the observed and predicted datasets\n",
    "    beta = sim_mean / obs_mean\n",
    "    alpha = sim_std / obs_std\n",
    "\n",
    "    # Calculate the Kling-Gupta Efficiency\n",
    "    return 1 - np.sqrt((r - 1) ** 2 + (alpha - 1) ** 2 + (beta - 1) ** 2)"
   ]
  }
 ],
 "metadata": {
  "kernelspec": {
   "display_name": "Python 3",
   "language": "python",
   "name": "python3"
  },
  "language_info": {
   "codemirror_mode": {
    "name": "ipython",
    "version": 3
   },
   "file_extension": ".py",
   "mimetype": "text/x-python",
   "name": "python",
   "nbconvert_exporter": "python",
   "pygments_lexer": "ipython3",
   "version": "3.12.0"
  }
 },
 "nbformat": 4,
 "nbformat_minor": 2
}
