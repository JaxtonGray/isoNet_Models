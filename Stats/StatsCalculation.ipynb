{
 "cells": [
  {
   "cell_type": "code",
   "execution_count": 97,
   "metadata": {},
   "outputs": [],
   "source": [
    "####################################################################################################\n",
    "#  This will read in a model number and output the stats for that specific model.\n",
    "# It will calculate the KGE (Kling-Gupta Efficiency), RMSE, and Residuals for the model.\n",
    "# However, given that some of these models have different regional models that make up the main model,\n",
    "# it will need to be separated into different regions. But only for the models that do have regional models.\n",
    "# The stats will be outputted to a csv file. To be used in the future for analysis.\n",
    "####################################################################################################\n",
    "\n",
    "import sys\n",
    "import re\n",
    "import numpy as np\n",
    "import pandas as pd\n",
    "import geopandas as gpd"
   ]
  },
  {
   "cell_type": "code",
   "execution_count": 98,
   "metadata": {},
   "outputs": [],
   "source": [
    "# Caclulate the RMSE for a predicted and observed dataset\n",
    "# Assume that the observed and predicted datasets are pandas dataframes with the same length\n",
    "def rmse(observed, predicted):\n",
    "    return np.sqrt(np.mean((observed - predicted) ** 2))"
   ]
  },
  {
   "cell_type": "code",
   "execution_count": 99,
   "metadata": {},
   "outputs": [],
   "source": [
    "# Calculate the KGE for a predicted and observed dataset\n",
    "# Assume that the observed and predicted datasets are pandas dataframes with the same length\n",
    "def kge(observed, predicted):\n",
    "    # Calculate mean and standard deviation of observed and predicted datasets\n",
    "    obs_mean = observed.mean()\n",
    "    sim_mean = predicted.mean()\n",
    "    obs_std = observed.std()\n",
    "    sim_std = predicted.std()\n",
    "\n",
    "    # Calculate the correlation coefficient between the observed and predicted datasets\n",
    "    r = np.corrcoef(observed, predicted)[0, 1] # [0, 1] is the correlation between the two datasets in the matrix\n",
    "\n",
    "    # Calculate the bias and variability between the observed and predicted datasets\n",
    "    beta = sim_mean / obs_mean\n",
    "    alpha = sim_std / obs_std\n",
    "\n",
    "    # Calculate the Kling-Gupta Efficiency\n",
    "    return 1 - np.sqrt((r - 1) ** 2 + (alpha - 1) ** 2 + (beta - 1) ** 2)"
   ]
  },
  {
   "cell_type": "code",
   "execution_count": 122,
   "metadata": {},
   "outputs": [],
   "source": [
    "# Create a function that will load in the model data and return a geopandas dataframe with the data and\n",
    "# the model architecture\n",
    "def readModelData():\n",
    "    # This reads what the user inputs for the model number and the architecture used\n",
    "    modelNum = 1#sys.argv[1]\n",
    "    modelArch = \"Global\"#\"PrevailingWInds_6Split\"#sys.argv[2]\n",
    "\n",
    "    # Load in the model data\n",
    "    modelData = pd.read_csv(f\"../Models/Model_{modelNum}/Model_{modelNum}_TestData.csv\")\n",
    "    modelData = gpd.GeoDataFrame(modelData, geometry=gpd.points_from_xy(modelData.Lon, modelData.Lat), crs=\"EPSG:4326\")\n",
    "\n",
    "    # Change the headers of the columns to be more usable with the code\n",
    "    # Start by extracting the old headers\n",
    "    oldHeaders = modelData.columns\n",
    "\n",
    "    # Now go through and change the headers to be more usable using regex to remove anything within brackets\n",
    "    # Also if there is something like O18 Actual, it will be changed to O18A and O18P for the predicted\n",
    "    newHeaders = []\n",
    "    newHeaders = [re.sub(r\"\\(.*\\)\", \"\", header).strip() for header in oldHeaders]\n",
    "    newHeaders = [re.sub(r\" Actual\", \"A\", header).strip() for header in newHeaders]\n",
    "    newHeaders = [re.sub(r\" Predicted\", \"P\", header).strip() for header in newHeaders]\n",
    "\n",
    "    # Now change the headers of the dataframe\n",
    "    modelData.columns = newHeaders\n",
    "    \n",
    "\n",
    "    # Load in the model architecture which will only need to be done if not \"Global\"\n",
    "    if modelArch != \"Global\":\n",
    "        modelArch = pd.read_csv(f\"../Data/ModelSplit_Arch/{modelArch}.csv\")\n",
    "        modelArch = gpd.GeoDataFrame(modelArch, geometry=gpd.GeoSeries.from_wkt(modelArch.geometry), crs=\"EPSG:4326\")\n",
    "    else:\n",
    "        modelArch = None\n",
    "\n",
    "    return modelData, modelArch, list(oldHeaders)"
   ]
  },
  {
   "cell_type": "code",
   "execution_count": 120,
   "metadata": {},
   "outputs": [],
   "source": [
    "# Calculate the summary statistics for the model and return a dataframe with the results for each region\n",
    "# and if there are no regions, return the stats for the entire model.\n",
    "def summaryStats(modelData, modelArch):\n",
    "    # First check if the model has regional models\n",
    "    if modelArch is not None:\n",
    "        # Cycle through the regions and assign the data from each to dictionary\n",
    "        regionalData = {}\n",
    "        key = modelArch.columns[0]\n",
    "        for index, region in modelArch.iterrows():\n",
    "            regionalData[region[key]] = modelData[modelData.within(region.geometry)]\n",
    "        \n",
    "        # Calculate the stats for each region and store in a dictionary\n",
    "        regionalStats = pd.DataFrame(columns=[\"Region\", \"O18 KGE\", \"O18 RMSE\", \"H2 KGE\", \"H2 RMSE\"])\n",
    "        for region, data in regionalData.items():\n",
    "            stats = {\"O18 KGE\": kge(data['O18 A'], data['O18 P']),\n",
    "                     \"O18 RMSE\": rmse(data['O18 A'], data['O18 P']),\n",
    "                     \"H2 KGE\": kge(data['H2 A'], data['H2 P']),\n",
    "                     \"H2 RMSE\": rmse(data['H2 A'], data['H2 P']),}\n",
    "            regionalStats = pd.concat([regionalStats, pd.DataFrame({\"Region\": [region], **stats})], ignore_index=True)\n",
    "        \n",
    "        return regionalStats\n",
    "    else:\n",
    "        # Calculate the stats for the entire model\n",
    "        stats = {\"O18 KGE\": kge(modelData['O18 A'], modelData['O18 P']),\n",
    "                 \"O18 RMSE\": rmse(modelData['O18 A'], modelData['O18 P']),\n",
    "                 \"H2 KGE\": kge(modelData['H2 A'], modelData['H2 P']),\n",
    "                 \"H2 RMSE\": rmse(modelData['H2 A'], modelData['H2 P']),}\n",
    "        \n",
    "        return pd.DataFrame([stats])"
   ]
  },
  {
   "cell_type": "code",
   "execution_count": 123,
   "metadata": {},
   "outputs": [
    {
     "data": {
      "text/html": [
       "<div>\n",
       "<style scoped>\n",
       "    .dataframe tbody tr th:only-of-type {\n",
       "        vertical-align: middle;\n",
       "    }\n",
       "\n",
       "    .dataframe tbody tr th {\n",
       "        vertical-align: top;\n",
       "    }\n",
       "\n",
       "    .dataframe thead th {\n",
       "        text-align: right;\n",
       "    }\n",
       "</style>\n",
       "<table border=\"1\" class=\"dataframe\">\n",
       "  <thead>\n",
       "    <tr style=\"text-align: right;\">\n",
       "      <th></th>\n",
       "      <th>O18 KGE</th>\n",
       "      <th>O18 RMSE</th>\n",
       "      <th>H2 KGE</th>\n",
       "      <th>H2 RMSE</th>\n",
       "    </tr>\n",
       "  </thead>\n",
       "  <tbody>\n",
       "    <tr>\n",
       "      <th>0</th>\n",
       "      <td>0.839538</td>\n",
       "      <td>2.509075</td>\n",
       "      <td>0.861782</td>\n",
       "      <td>19.2546</td>\n",
       "    </tr>\n",
       "  </tbody>\n",
       "</table>\n",
       "</div>"
      ],
      "text/plain": [
       "    O18 KGE  O18 RMSE    H2 KGE  H2 RMSE\n",
       "0  0.839538  2.509075  0.861782  19.2546"
      ]
     },
     "execution_count": 123,
     "metadata": {},
     "output_type": "execute_result"
    }
   ],
   "source": [
    "modelData, modelArch, oldHeaders = readModelData()\n",
    "summaryStats(modelData, modelArch)"
   ]
  }
 ],
 "metadata": {
  "kernelspec": {
   "display_name": "Python 3",
   "language": "python",
   "name": "python3"
  },
  "language_info": {
   "codemirror_mode": {
    "name": "ipython",
    "version": 3
   },
   "file_extension": ".py",
   "mimetype": "text/x-python",
   "name": "python",
   "nbconvert_exporter": "python",
   "pygments_lexer": "ipython3",
   "version": "3.12.0"
  }
 },
 "nbformat": 4,
 "nbformat_minor": 2
}
