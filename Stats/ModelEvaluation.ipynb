{
 "cells": [
  {
   "cell_type": "markdown",
   "metadata": {},
   "source": [
    "Single Model Evaluation\n",
    "-----------------------\n",
    "This code will be used only to evaluate 1 model as it is specified so I can see how it is performing before I go into depth on the other models.\n",
    "\n",
    "The table of contents is as follows:\n",
    "1. [Loading Data](#Loading-Data)\n",
    "2. [Mean Absolute Error](#Mean-Absolute-Error)\n",
    "3. [Root Mean Squared Error](#Root-Mean-Squared-Error)\n",
    "4. [KGE](#KGE)"
   ]
  },
  {
   "cell_type": "code",
   "execution_count": 5,
   "metadata": {},
   "outputs": [],
   "source": [
    "MODELNUM = 1"
   ]
  },
  {
   "cell_type": "code",
   "execution_count": 9,
   "metadata": {},
   "outputs": [],
   "source": [
    "# Importing the libraries\n",
    "import numpy as np\n",
    "import pandas as pd\n",
    "import geopandas as gpd\n",
    "from sklearn.metrics import mean_absolute_error, mean_squared_error\n",
    "import matplotlib.pyplot as plt"
   ]
  },
  {
   "cell_type": "markdown",
   "metadata": {},
   "source": [
    "# Loading Data\n",
    "---------------"
   ]
  },
  {
   "cell_type": "code",
   "execution_count": 7,
   "metadata": {},
   "outputs": [
    {
     "data": {
      "text/html": [
       "<div>\n",
       "<style scoped>\n",
       "    .dataframe tbody tr th:only-of-type {\n",
       "        vertical-align: middle;\n",
       "    }\n",
       "\n",
       "    .dataframe tbody tr th {\n",
       "        vertical-align: top;\n",
       "    }\n",
       "\n",
       "    .dataframe thead th {\n",
       "        text-align: right;\n",
       "    }\n",
       "</style>\n",
       "<table border=\"1\" class=\"dataframe\">\n",
       "  <thead>\n",
       "    <tr style=\"text-align: right;\">\n",
       "      <th></th>\n",
       "      <th>Lat</th>\n",
       "      <th>Lon</th>\n",
       "      <th>Alt</th>\n",
       "      <th>Temp</th>\n",
       "      <th>Precip</th>\n",
       "      <th>Year</th>\n",
       "      <th>JulianDay_Sin</th>\n",
       "      <th>O18 A</th>\n",
       "      <th>H2 A</th>\n",
       "      <th>O18 P</th>\n",
       "      <th>H2 P</th>\n",
       "    </tr>\n",
       "  </thead>\n",
       "  <tbody>\n",
       "    <tr>\n",
       "      <th>0</th>\n",
       "      <td>46.491434</td>\n",
       "      <td>9.898181</td>\n",
       "      <td>1724.0</td>\n",
       "      <td>6.623712</td>\n",
       "      <td>4.920363</td>\n",
       "      <td>1999.0</td>\n",
       "      <td>0.296713</td>\n",
       "      <td>-8.25</td>\n",
       "      <td>-57.0</td>\n",
       "      <td>-12.984271</td>\n",
       "      <td>-93.043602</td>\n",
       "    </tr>\n",
       "    <tr>\n",
       "      <th>1</th>\n",
       "      <td>22.316667</td>\n",
       "      <td>114.166667</td>\n",
       "      <td>66.0</td>\n",
       "      <td>29.100000</td>\n",
       "      <td>455.500000</td>\n",
       "      <td>2010.0</td>\n",
       "      <td>-0.213521</td>\n",
       "      <td>-8.17</td>\n",
       "      <td>-52.1</td>\n",
       "      <td>-9.214072</td>\n",
       "      <td>-62.213623</td>\n",
       "    </tr>\n",
       "    <tr>\n",
       "      <th>2</th>\n",
       "      <td>43.732389</td>\n",
       "      <td>7.423583</td>\n",
       "      <td>2.0</td>\n",
       "      <td>19.000000</td>\n",
       "      <td>372.000000</td>\n",
       "      <td>2000.0</td>\n",
       "      <td>-0.711657</td>\n",
       "      <td>-6.50</td>\n",
       "      <td>-45.0</td>\n",
       "      <td>-5.950128</td>\n",
       "      <td>-36.928036</td>\n",
       "    </tr>\n",
       "    <tr>\n",
       "      <th>3</th>\n",
       "      <td>45.320000</td>\n",
       "      <td>-75.670000</td>\n",
       "      <td>114.0</td>\n",
       "      <td>17.800000</td>\n",
       "      <td>130.000000</td>\n",
       "      <td>2017.0</td>\n",
       "      <td>0.296713</td>\n",
       "      <td>-8.20</td>\n",
       "      <td>-58.0</td>\n",
       "      <td>-8.225629</td>\n",
       "      <td>-55.089695</td>\n",
       "    </tr>\n",
       "    <tr>\n",
       "      <th>4</th>\n",
       "      <td>-0.841111</td>\n",
       "      <td>29.941944</td>\n",
       "      <td>1595.0</td>\n",
       "      <td>24.926385</td>\n",
       "      <td>4.519369</td>\n",
       "      <td>2005.0</td>\n",
       "      <td>-0.958718</td>\n",
       "      <td>-1.69</td>\n",
       "      <td>3.2</td>\n",
       "      <td>-1.692355</td>\n",
       "      <td>-0.541008</td>\n",
       "    </tr>\n",
       "  </tbody>\n",
       "</table>\n",
       "</div>"
      ],
      "text/plain": [
       "         Lat         Lon     Alt       Temp      Precip    Year  \\\n",
       "0  46.491434    9.898181  1724.0   6.623712    4.920363  1999.0   \n",
       "1  22.316667  114.166667    66.0  29.100000  455.500000  2010.0   \n",
       "2  43.732389    7.423583     2.0  19.000000  372.000000  2000.0   \n",
       "3  45.320000  -75.670000   114.0  17.800000  130.000000  2017.0   \n",
       "4  -0.841111   29.941944  1595.0  24.926385    4.519369  2005.0   \n",
       "\n",
       "   JulianDay_Sin  O18 A  H2 A      O18 P       H2 P  \n",
       "0       0.296713  -8.25 -57.0 -12.984271 -93.043602  \n",
       "1      -0.213521  -8.17 -52.1  -9.214072 -62.213623  \n",
       "2      -0.711657  -6.50 -45.0  -5.950128 -36.928036  \n",
       "3       0.296713  -8.20 -58.0  -8.225629 -55.089695  \n",
       "4      -0.958718  -1.69   3.2  -1.692355  -0.541008  "
      ]
     },
     "execution_count": 7,
     "metadata": {},
     "output_type": "execute_result"
    }
   ],
   "source": [
    "df = pd.read_csv(f'../Models/Model_{MODELNUM}/Model_{MODELNUM}_TestData.csv')\n",
    "df.head()"
   ]
  },
  {
   "cell_type": "markdown",
   "metadata": {},
   "source": [
    "# Mean Absolute Error\n",
    "---------------------\n",
    "The mean absolute error is the average of the absolute differences between the predicted and actual values. It gives an idea of how wrong the predictions are. I will be calculating the mean absolute error for the model. Then I will graph it to see how it is performing."
   ]
  },
  {
   "cell_type": "code",
   "execution_count": 11,
   "metadata": {},
   "outputs": [
    {
     "data": {
      "text/plain": [
       "(1.8724747422883317, 14.177802410195154)"
      ]
     },
     "execution_count": 11,
     "metadata": {},
     "output_type": "execute_result"
    }
   ],
   "source": [
    "mae_O18 = mean_absolute_error(df['O18 A'], df['O18 P'])\n",
    "mae_H2 = mean_absolute_error(df['H2 A'], df['H2 P'])\n",
    "mae_O18, mae_H2"
   ]
  },
  {
   "cell_type": "markdown",
   "metadata": {},
   "source": [
    "# Root Mean Squared Error\n",
    "-------------------------\n",
    "The root mean squared error is the square root of the average of the squared differences between the predicted and actual values. It gives an idea of how far off the predictions are. I will be calculating the root mean squared error for the model. Then I will graph it to see how it is performing."
   ]
  },
  {
   "cell_type": "code",
   "execution_count": 12,
   "metadata": {},
   "outputs": [
    {
     "data": {
      "text/plain": [
       "(2.5312830358020295, 19.214750671922225)"
      ]
     },
     "execution_count": 12,
     "metadata": {},
     "output_type": "execute_result"
    }
   ],
   "source": [
    "rmse_O18 = np.sqrt(mean_squared_error(df['O18 A'], df['O18 P']))\n",
    "rmse_H2 = np.sqrt(mean_squared_error(df['H2 A'], df['H2 P']))\n",
    "rmse_O18, rmse_H2"
   ]
  },
  {
   "cell_type": "markdown",
   "metadata": {},
   "source": [
    "# KGE\n",
    "-----\n",
    "The Kling-Gupta Efficiency is a metric that compares the model's performance to a perfect model. It is a measure of how well the model is performing. I will be calculating the KGE for the model."
   ]
  },
  {
   "cell_type": "code",
   "execution_count": 15,
   "metadata": {},
   "outputs": [],
   "source": [
    "def kling_gupta_eff(actual, pred):\n",
    "    # Calculate the base values needed for the calculation\n",
    "    mean_act = np.mean(actual)\n",
    "    mean_pred = np.mean(pred)\n",
    "    sd_act = np.std(actual)\n",
    "    sd_pred = np.std(pred)\n",
    "\n",
    "    r = np.corrcoef(actual, pred)[0, 1]\n",
    "    beta = mean_pred / mean_act\n",
    "    alpha = sd_pred / sd_act\n",
    "\n",
    "    return 1 - np.sqrt((r - 1) ** 2 + (beta - 1) ** 2 + (alpha - 1) ** 2)"
   ]
  },
  {
   "cell_type": "code",
   "execution_count": 17,
   "metadata": {},
   "outputs": [
    {
     "data": {
      "text/plain": [
       "(0.8291651479187754, 0.8435437624570455)"
      ]
     },
     "execution_count": 17,
     "metadata": {},
     "output_type": "execute_result"
    }
   ],
   "source": [
    "kge_O18 = kling_gupta_eff(df['O18 A'], df['O18 P'])\n",
    "kge_H2 = kling_gupta_eff(df['H2 A'], df['H2 P'])\n",
    "kge_O18, kge_H2"
   ]
  }
 ],
 "metadata": {
  "kernelspec": {
   "display_name": "Python 3",
   "language": "python",
   "name": "python3"
  },
  "language_info": {
   "codemirror_mode": {
    "name": "ipython",
    "version": 3
   },
   "file_extension": ".py",
   "mimetype": "text/x-python",
   "name": "python",
   "nbconvert_exporter": "python",
   "pygments_lexer": "ipython3",
   "version": "3.10.4"
  }
 },
 "nbformat": 4,
 "nbformat_minor": 2
}
