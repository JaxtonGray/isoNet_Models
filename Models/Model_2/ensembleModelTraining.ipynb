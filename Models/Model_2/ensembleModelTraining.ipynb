{
 "cells": [
  {
   "cell_type": "code",
   "execution_count": 44,
   "metadata": {},
   "outputs": [],
   "source": [
    "# Importing the common libraries\n",
    "import numpy as np\n",
    "import pandas as pd\n",
    "import geopandas as gpd\n",
    "import re\n",
    "\n",
    "# TensorFlow and Scikit Learn libraries\n",
    "import tensorflow as tf\n",
    "from tensorflow.keras.models import Sequential\n",
    "from tensorflow.keras.layers import Dense, LSTM, InputLayer\n",
    "from tensorflow.keras.callbacks import EarlyStopping\n",
    "from tensorflow.keras.optimizers import Adam\n",
    "from tensorflow.keras.metrics import RootMeanSquaredError, MeanAbsoluteError\n",
    "\n",
    "from sklearn.model_selection import train_test_split\n",
    "from sklearn.preprocessing import MinMaxScaler"
   ]
  },
  {
   "cell_type": "code",
   "execution_count": 45,
   "metadata": {},
   "outputs": [],
   "source": [
    "# Create a function that imports the data and returns 6 dataframes for each of the 6 models\n",
    "def importData():\n",
    "    # Importing the data\n",
    "    df = pd.read_csv(r'../../Data/GNIP/GNIP_Cleaned.csv')\n",
    "    cols = df.columns\n",
    "\n",
    "    # Remove units from columns for easier processing\n",
    "    codeCols = list(map(lambda x: re.sub(r'\\(([^()]*)\\)', '', x).strip(), cols))\n",
    "    df.columns = codeCols\n",
    "\n",
    "    # Load in the PrevailingWinds file for which the model will be split on\n",
    "    modelLocations = pd.read_csv(r'../../Data/ModelSplit_Arch/PrevailingWinds_6Split.csv')\n",
    "    test =  gpd.read_file(r'../../Data/ModelSplit_Arch/PrevailingWinds_6Split.csv')\n",
    "\n",
    "    return test, cols"
   ]
  },
  {
   "cell_type": "code",
   "execution_count": 46,
   "metadata": {},
   "outputs": [],
   "source": [
    "# Main function to call all the other functions\n",
    "def main():\n",
    "    # Importing the data\n",
    "    df, cols = importData()\n",
    "    return df"
   ]
  },
  {
   "cell_type": "code",
   "execution_count": 47,
   "metadata": {},
   "outputs": [
    {
     "data": {
      "text/html": [
       "<div>\n",
       "<style scoped>\n",
       "    .dataframe tbody tr th:only-of-type {\n",
       "        vertical-align: middle;\n",
       "    }\n",
       "\n",
       "    .dataframe tbody tr th {\n",
       "        vertical-align: top;\n",
       "    }\n",
       "\n",
       "    .dataframe thead th {\n",
       "        text-align: right;\n",
       "    }\n",
       "</style>\n",
       "<table border=\"1\" class=\"dataframe\">\n",
       "  <thead>\n",
       "    <tr style=\"text-align: right;\">\n",
       "      <th></th>\n",
       "      <th>Prevailing Wind</th>\n",
       "      <th>Geometry</th>\n",
       "    </tr>\n",
       "  </thead>\n",
       "  <tbody>\n",
       "    <tr>\n",
       "      <th>0</th>\n",
       "      <td>PolarWesterlies_NW</td>\n",
       "      <td>POLYGON((-17 30, -17 90, -180 90, -180 30, -17...</td>\n",
       "    </tr>\n",
       "    <tr>\n",
       "      <th>1</th>\n",
       "      <td>Trade_W</td>\n",
       "      <td>POLYGON((-17 -30, -17 30, -180 30, -180 -30, -...</td>\n",
       "    </tr>\n",
       "    <tr>\n",
       "      <th>2</th>\n",
       "      <td>PolarWesterlies_SW</td>\n",
       "      <td>POLYGON((-17 -30,-17 -90, -180 -90, -180 -30, ...</td>\n",
       "    </tr>\n",
       "    <tr>\n",
       "      <th>3</th>\n",
       "      <td>PolarWesterlies_NE</td>\n",
       "      <td>POLYGON((-17 30, -17 90, 180 90, 180 30, -17 30))</td>\n",
       "    </tr>\n",
       "    <tr>\n",
       "      <th>4</th>\n",
       "      <td>Trade_E</td>\n",
       "      <td>POLYGON((-17 -30, -17 30, 180 30, 180 -30, -17...</td>\n",
       "    </tr>\n",
       "  </tbody>\n",
       "</table>\n",
       "</div>"
      ],
      "text/plain": [
       "      Prevailing Wind                                           Geometry\n",
       "0  PolarWesterlies_NW  POLYGON((-17 30, -17 90, -180 90, -180 30, -17...\n",
       "1             Trade_W  POLYGON((-17 -30, -17 30, -180 30, -180 -30, -...\n",
       "2  PolarWesterlies_SW  POLYGON((-17 -30,-17 -90, -180 -90, -180 -30, ...\n",
       "3  PolarWesterlies_NE  POLYGON((-17 30, -17 90, 180 90, 180 30, -17 30))\n",
       "4             Trade_E  POLYGON((-17 -30, -17 30, 180 30, 180 -30, -17..."
      ]
     },
     "execution_count": 47,
     "metadata": {},
     "output_type": "execute_result"
    }
   ],
   "source": [
    "df = main()\n",
    "df.head()"
   ]
  }
 ],
 "metadata": {
  "kernelspec": {
   "display_name": "Python 3",
   "language": "python",
   "name": "python3"
  },
  "language_info": {
   "codemirror_mode": {
    "name": "ipython",
    "version": 3
   },
   "file_extension": ".py",
   "mimetype": "text/x-python",
   "name": "python",
   "nbconvert_exporter": "python",
   "pygments_lexer": "ipython3",
   "version": "3.11.9"
  }
 },
 "nbformat": 4,
 "nbformat_minor": 2
}
