{
 "cells": [
  {
   "cell_type": "code",
   "execution_count": 125,
   "metadata": {},
   "outputs": [],
   "source": [
    "# Importing the common libraries\n",
    "import numpy as np\n",
    "import pandas as pd\n",
    "import geopandas as gpd\n",
    "import re\n",
    "\n",
    "# TensorFlow and Scikit Learn libraries\n",
    "import tensorflow as tf\n",
    "from tensorflow.keras.models import Sequential\n",
    "from tensorflow.keras.layers import Dense, LSTM, InputLayer\n",
    "from tensorflow.keras.callbacks import EarlyStopping\n",
    "from tensorflow.keras.optimizers import Adam\n",
    "from tensorflow.keras.metrics import RootMeanSquaredError, MeanAbsoluteError\n",
    "\n",
    "from sklearn.model_selection import train_test_split\n",
    "from sklearn.preprocessing import MinMaxScaler"
   ]
  },
  {
   "cell_type": "code",
   "execution_count": 126,
   "metadata": {},
   "outputs": [],
   "source": [
    "# Create a function that imports the data and returns 6 dataframes for each of the 6 models\n",
    "def importData():\n",
    "    # Importing the data and convert to a GeoDF\n",
    "    df = pd.read_csv(r'../../Data/GNIP/GNIP_Cleaned.csv')\n",
    "    df = gpd.GeoDataFrame(df, geometry=gpd.points_from_xy(df.Lon, df.Lat, df.Alt)).set_crs('EPSG:4326')\n",
    "    cols = df.columns\n",
    "\n",
    "    # Remove units from columns for easier processing\n",
    "    codeCols = list(map(lambda x: re.sub(r'\\(([^()]*)\\)', '', x).strip(), cols))\n",
    "    df.columns = codeCols\n",
    "\n",
    "    # Load in the PrevailingWinds file for which the model will be split on\n",
    "    modelLocations = pd.read_csv(r'../../Data/ModelSplit_Arch/PrevailingWinds_6Split.csv')\n",
    "    modelLocations = gpd.GeoDataFrame(modelLocations, geometry=gpd.GeoSeries.from_wkt(modelLocations['Geometry']), crs=\"EPSG:4326\")\n",
    "    modelLocations.drop(columns=\"Geometry\", inplace=True)\n",
    "    modelLocations.set_index('Prevailing Wind', inplace=True)\n",
    "\n",
    "    # Create an empty dictionary that will contain each of the modelDatasets to train with\n",
    "    modelData = {}\n",
    "    for\n",
    "\n",
    "    return df, cols, modelLocations"
   ]
  },
  {
   "cell_type": "code",
   "execution_count": 127,
   "metadata": {},
   "outputs": [],
   "source": [
    "# Main function to call all the other functions\n",
    "def main():\n",
    "    # Importing the data\n",
    "    df, cols, test = importData()\n",
    "    return df, cols, test"
   ]
  },
  {
   "cell_type": "code",
   "execution_count": 132,
   "metadata": {},
   "outputs": [
    {
     "name": "stderr",
     "output_type": "stream",
     "text": [
      "/tmp/ipykernel_2324/3266678229.py:2: UserWarning: Geometry is in a geographic CRS. Results from 'area' are likely incorrect. Use 'GeoSeries.to_crs()' to re-project geometries to a projected CRS before this operation.\n",
      "\n",
      "  test.area\n"
     ]
    },
    {
     "data": {
      "text/plain": [
       "Prevailing Wind\n",
       "PolarWesterlies_NW     9780.0\n",
       "Trade_W                9780.0\n",
       "PolarWesterlies_SW     9780.0\n",
       "PolarWesterlies_NE    11820.0\n",
       "Trade_E               11820.0\n",
       "PolarWesterlies_SE    11820.0\n",
       "dtype: float64"
      ]
     },
     "execution_count": 132,
     "metadata": {},
     "output_type": "execute_result"
    }
   ],
   "source": [
    "df, null, test = main()"
   ]
  }
 ],
 "metadata": {
  "kernelspec": {
   "display_name": "Python 3",
   "language": "python",
   "name": "python3"
  },
  "language_info": {
   "codemirror_mode": {
    "name": "ipython",
    "version": 3
   },
   "file_extension": ".py",
   "mimetype": "text/x-python",
   "name": "python",
   "nbconvert_exporter": "python",
   "pygments_lexer": "ipython3",
   "version": "3.11.9"
  }
 },
 "nbformat": 4,
 "nbformat_minor": 2
}
